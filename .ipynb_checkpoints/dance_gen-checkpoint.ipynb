{
 "cells": [
  {
   "cell_type": "code",
   "execution_count": 9,
   "id": "a4319435-7a2f-43c6-a6df-0d5fc4ba7afe",
   "metadata": {
    "scrolled": true
   },
   "outputs": [
    {
     "name": "stdout",
     "output_type": "stream",
     "text": [
      "Collecting wandb\n",
      "  Downloading wandb-0.21.0-py3-none-manylinux_2_17_x86_64.manylinux2014_x86_64.whl.metadata (10 kB)\n",
      "Collecting p_tqdm\n",
      "  Downloading p_tqdm-1.4.2.tar.gz (6.0 kB)\n",
      "  Preparing metadata (setup.py) ... \u001b[?25ldone\n",
      "\u001b[?25hCollecting einops\n",
      "  Downloading einops-0.8.1-py3-none-any.whl.metadata (13 kB)\n",
      "Collecting click!=8.0.0,>=7.1 (from wandb)\n",
      "  Downloading click-8.2.1-py3-none-any.whl.metadata (2.5 kB)\n",
      "Collecting gitpython!=3.1.29,>=1.0.0 (from wandb)\n",
      "  Downloading GitPython-3.1.44-py3-none-any.whl.metadata (13 kB)\n",
      "Requirement already satisfied: packaging in /usr/local/lib/python3.10/dist-packages (from wandb) (23.2)\n",
      "Requirement already satisfied: platformdirs in /usr/local/lib/python3.10/dist-packages (from wandb) (3.11.0)\n",
      "Collecting protobuf!=4.21.0,!=5.28.0,<7,>=3.19.0 (from wandb)\n",
      "  Downloading protobuf-6.31.1-cp39-abi3-manylinux2014_x86_64.whl.metadata (593 bytes)\n",
      "Collecting pydantic<3 (from wandb)\n",
      "  Downloading pydantic-2.11.7-py3-none-any.whl.metadata (67 kB)\n",
      "\u001b[2K     \u001b[90m━━━━━━━━━━━━━━━━━━━━━━━━━━━━━━━━━━━━━━━━\u001b[0m \u001b[32m68.0/68.0 kB\u001b[0m \u001b[31m4.8 MB/s\u001b[0m eta \u001b[36m0:00:00\u001b[0m\n",
      "\u001b[?25hRequirement already satisfied: pyyaml in /usr/local/lib/python3.10/dist-packages (from wandb) (6.0.1)\n",
      "Requirement already satisfied: requests<3,>=2.0.0 in /usr/local/lib/python3.10/dist-packages (from wandb) (2.31.0)\n",
      "Collecting sentry-sdk>=2.0.0 (from wandb)\n",
      "  Downloading sentry_sdk-2.33.1-py2.py3-none-any.whl.metadata (10 kB)\n",
      "Collecting typing-extensions<5,>=4.8 (from wandb)\n",
      "  Downloading typing_extensions-4.14.1-py3-none-any.whl.metadata (3.0 kB)\n",
      "Requirement already satisfied: tqdm>=4.45.0 in /usr/local/lib/python3.10/dist-packages (from p_tqdm) (4.45.0)\n",
      "Collecting pathos>=0.2.5 (from p_tqdm)\n",
      "  Downloading pathos-0.3.4-py3-none-any.whl.metadata (11 kB)\n",
      "Requirement already satisfied: six>=1.13.0 in /usr/lib/python3/dist-packages (from p_tqdm) (1.16.0)\n",
      "Collecting gitdb<5,>=4.0.1 (from gitpython!=3.1.29,>=1.0.0->wandb)\n",
      "  Downloading gitdb-4.0.12-py3-none-any.whl.metadata (1.2 kB)\n",
      "Collecting ppft>=1.7.7 (from pathos>=0.2.5->p_tqdm)\n",
      "  Downloading ppft-1.7.7-py3-none-any.whl.metadata (12 kB)\n",
      "Collecting dill>=0.4.0 (from pathos>=0.2.5->p_tqdm)\n",
      "  Downloading dill-0.4.0-py3-none-any.whl.metadata (10 kB)\n",
      "Collecting pox>=0.3.6 (from pathos>=0.2.5->p_tqdm)\n",
      "  Downloading pox-0.3.6-py3-none-any.whl.metadata (8.0 kB)\n",
      "Collecting multiprocess>=0.70.18 (from pathos>=0.2.5->p_tqdm)\n",
      "  Downloading multiprocess-0.70.18-py310-none-any.whl.metadata (7.5 kB)\n",
      "Collecting annotated-types>=0.6.0 (from pydantic<3->wandb)\n",
      "  Downloading annotated_types-0.7.0-py3-none-any.whl.metadata (15 kB)\n",
      "Collecting pydantic-core==2.33.2 (from pydantic<3->wandb)\n",
      "  Downloading pydantic_core-2.33.2-cp310-cp310-manylinux_2_17_x86_64.manylinux2014_x86_64.whl.metadata (6.8 kB)\n",
      "Collecting typing-inspection>=0.4.0 (from pydantic<3->wandb)\n",
      "  Downloading typing_inspection-0.4.1-py3-none-any.whl.metadata (2.6 kB)\n",
      "Requirement already satisfied: charset-normalizer<4,>=2 in /usr/local/lib/python3.10/dist-packages (from requests<3,>=2.0.0->wandb) (2.1.1)\n",
      "Requirement already satisfied: idna<4,>=2.5 in /usr/local/lib/python3.10/dist-packages (from requests<3,>=2.0.0->wandb) (3.4)\n",
      "Requirement already satisfied: urllib3<3,>=1.21.1 in /usr/local/lib/python3.10/dist-packages (from requests<3,>=2.0.0->wandb) (1.26.13)\n",
      "Requirement already satisfied: certifi>=2017.4.17 in /usr/local/lib/python3.10/dist-packages (from requests<3,>=2.0.0->wandb) (2022.12.7)\n",
      "Collecting smmap<6,>=3.0.1 (from gitdb<5,>=4.0.1->gitpython!=3.1.29,>=1.0.0->wandb)\n",
      "  Downloading smmap-5.0.2-py3-none-any.whl.metadata (4.3 kB)\n",
      "Downloading wandb-0.21.0-py3-none-manylinux_2_17_x86_64.manylinux2014_x86_64.whl (22.2 MB)\n",
      "\u001b[2K   \u001b[90m━━━━━━━━━━━━━━━━━━━━━━━━━━━━━━━━━━━━━━━━\u001b[0m \u001b[32m22.2/22.2 MB\u001b[0m \u001b[31m61.6 MB/s\u001b[0m eta \u001b[36m0:00:00\u001b[0m:00:01\u001b[0m00:01\u001b[0m\n",
      "\u001b[?25hDownloading einops-0.8.1-py3-none-any.whl (64 kB)\n",
      "\u001b[2K   \u001b[90m━━━━━━━━━━━━━━━━━━━━━━━━━━━━━━━━━━━━━━━━\u001b[0m \u001b[32m64.4/64.4 kB\u001b[0m \u001b[31m14.7 MB/s\u001b[0m eta \u001b[36m0:00:00\u001b[0m\n",
      "\u001b[?25hDownloading click-8.2.1-py3-none-any.whl (102 kB)\n",
      "\u001b[2K   \u001b[90m━━━━━━━━━━━━━━━━━━━━━━━━━━━━━━━━━━━━━━━━\u001b[0m \u001b[32m102.2/102.2 kB\u001b[0m \u001b[31m24.0 MB/s\u001b[0m eta \u001b[36m0:00:00\u001b[0m\n",
      "\u001b[?25hDownloading GitPython-3.1.44-py3-none-any.whl (207 kB)\n",
      "\u001b[2K   \u001b[90m━━━━━━━━━━━━━━━━━━━━━━━━━━━━━━━━━━━━━━━━\u001b[0m \u001b[32m207.6/207.6 kB\u001b[0m \u001b[31m42.5 MB/s\u001b[0m eta \u001b[36m0:00:00\u001b[0m\n",
      "\u001b[?25hDownloading pathos-0.3.4-py3-none-any.whl (82 kB)\n",
      "\u001b[2K   \u001b[90m━━━━━━━━━━━━━━━━━━━━━━━━━━━━━━━━━━━━━━━━\u001b[0m \u001b[32m82.3/82.3 kB\u001b[0m \u001b[31m22.5 MB/s\u001b[0m eta \u001b[36m0:00:00\u001b[0m\n",
      "\u001b[?25hDownloading protobuf-6.31.1-cp39-abi3-manylinux2014_x86_64.whl (321 kB)\n",
      "\u001b[2K   \u001b[90m━━━━━━━━━━━━━━━━━━━━━━━━━━━━━━━━━━━━━━━━\u001b[0m \u001b[32m321.1/321.1 kB\u001b[0m \u001b[31m57.4 MB/s\u001b[0m eta \u001b[36m0:00:00\u001b[0m\n",
      "\u001b[?25hDownloading pydantic-2.11.7-py3-none-any.whl (444 kB)\n",
      "\u001b[2K   \u001b[90m━━━━━━━━━━━━━━━━━━━━━━━━━━━━━━━━━━━━━━━━\u001b[0m \u001b[32m444.8/444.8 kB\u001b[0m \u001b[31m62.4 MB/s\u001b[0m eta \u001b[36m0:00:00\u001b[0m\n",
      "\u001b[?25hDownloading pydantic_core-2.33.2-cp310-cp310-manylinux_2_17_x86_64.manylinux2014_x86_64.whl (2.0 MB)\n",
      "\u001b[2K   \u001b[90m━━━━━━━━━━━━━━━━━━━━━━━━━━━━━━━━━━━━━━━━\u001b[0m \u001b[32m2.0/2.0 MB\u001b[0m \u001b[31m56.4 MB/s\u001b[0m eta \u001b[36m0:00:00\u001b[0m:00:01\u001b[0m\n",
      "\u001b[?25hDownloading sentry_sdk-2.33.1-py2.py3-none-any.whl (356 kB)\n",
      "\u001b[2K   \u001b[90m━━━━━━━━━━━━━━━━━━━━━━━━━━━━━━━━━━━━━━━━\u001b[0m \u001b[32m356.7/356.7 kB\u001b[0m \u001b[31m43.3 MB/s\u001b[0m eta \u001b[36m0:00:00\u001b[0m\n",
      "\u001b[?25hDownloading typing_extensions-4.14.1-py3-none-any.whl (43 kB)\n",
      "\u001b[2K   \u001b[90m━━━━━━━━━━━━━━━━━━━━━━━━━━━━━━━━━━━━━━━━\u001b[0m \u001b[32m43.9/43.9 kB\u001b[0m \u001b[31m8.2 MB/s\u001b[0m eta \u001b[36m0:00:00\u001b[0m\n",
      "\u001b[?25hDownloading annotated_types-0.7.0-py3-none-any.whl (13 kB)\n",
      "Downloading dill-0.4.0-py3-none-any.whl (119 kB)\n",
      "\u001b[2K   \u001b[90m━━━━━━━━━━━━━━━━━━━━━━━━━━━━━━━━━━━━━━━━\u001b[0m \u001b[32m119.7/119.7 kB\u001b[0m \u001b[31m21.4 MB/s\u001b[0m eta \u001b[36m0:00:00\u001b[0m\n",
      "\u001b[?25hDownloading gitdb-4.0.12-py3-none-any.whl (62 kB)\n",
      "\u001b[2K   \u001b[90m━━━━━━━━━━━━━━━━━━━━━━━━━━━━━━━━━━━━━━━━\u001b[0m \u001b[32m62.8/62.8 kB\u001b[0m \u001b[31m9.8 MB/s\u001b[0m eta \u001b[36m0:00:00\u001b[0m\n",
      "\u001b[?25hDownloading multiprocess-0.70.18-py310-none-any.whl (134 kB)\n",
      "\u001b[2K   \u001b[90m━━━━━━━━━━━━━━━━━━━━━━━━━━━━━━━━━━━━━━━━\u001b[0m \u001b[32m134.9/134.9 kB\u001b[0m \u001b[31m20.3 MB/s\u001b[0m eta \u001b[36m0:00:00\u001b[0m\n",
      "\u001b[?25hDownloading pox-0.3.6-py3-none-any.whl (29 kB)\n",
      "Downloading ppft-1.7.7-py3-none-any.whl (56 kB)\n",
      "\u001b[2K   \u001b[90m━━━━━━━━━━━━━━━━━━━━━━━━━━━━━━━━━━━━━━━━\u001b[0m \u001b[32m56.8/56.8 kB\u001b[0m \u001b[31m9.6 MB/s\u001b[0m eta \u001b[36m0:00:00\u001b[0m\n",
      "\u001b[?25hDownloading typing_inspection-0.4.1-py3-none-any.whl (14 kB)\n",
      "Downloading smmap-5.0.2-py3-none-any.whl (24 kB)\n",
      "Building wheels for collected packages: p_tqdm\n",
      "  Building wheel for p_tqdm (setup.py) ... \u001b[?25ldone\n",
      "\u001b[?25h  Created wheel for p_tqdm: filename=p_tqdm-1.4.2-py3-none-any.whl size=5400 sha256=57393afbf94dcb54a9f32dca7c117f99778f72f01258bbb04a8467531ef8a3f2\n",
      "  Stored in directory: /root/.cache/pip/wheels/5c/eb/46/364fe18b96fa8438176535990d8c8ac9ac87becde4cd340d3d\n",
      "Successfully built p_tqdm\n",
      "Installing collected packages: typing-extensions, smmap, sentry-sdk, protobuf, ppft, pox, einops, dill, click, annotated-types, typing-inspection, pydantic-core, multiprocess, gitdb, pydantic, pathos, gitpython, wandb, p_tqdm\n",
      "  Attempting uninstall: typing-extensions\n",
      "    Found existing installation: typing_extensions 4.4.0\n",
      "    Uninstalling typing_extensions-4.4.0:\n",
      "      Successfully uninstalled typing_extensions-4.4.0\n",
      "Successfully installed annotated-types-0.7.0 click-8.2.1 dill-0.4.0 einops-0.8.1 gitdb-4.0.12 gitpython-3.1.44 multiprocess-0.70.18 p_tqdm-1.4.2 pathos-0.3.4 pox-0.3.6 ppft-1.7.7 protobuf-6.31.1 pydantic-2.11.7 pydantic-core-2.33.2 sentry-sdk-2.33.1 smmap-5.0.2 typing-extensions-4.14.1 typing-inspection-0.4.1 wandb-0.21.0\n",
      "\u001b[33mWARNING: Running pip as the 'root' user can result in broken permissions and conflicting behaviour with the system package manager. It is recommended to use a virtual environment instead: https://pip.pypa.io/warnings/venv\u001b[0m\u001b[33m\n",
      "\u001b[0m\n",
      "\u001b[1m[\u001b[0m\u001b[34;49mnotice\u001b[0m\u001b[1;39;49m]\u001b[0m\u001b[39;49m A new release of pip is available: \u001b[0m\u001b[31;49m23.3.1\u001b[0m\u001b[39;49m -> \u001b[0m\u001b[32;49m25.1.1\u001b[0m\n",
      "\u001b[1m[\u001b[0m\u001b[34;49mnotice\u001b[0m\u001b[1;39;49m]\u001b[0m\u001b[39;49m To update, run: \u001b[0m\u001b[32;49mpython -m pip install --upgrade pip\u001b[0m\n"
     ]
    }
   ],
   "source": [
    "!sudo apt update && sudo apt install -y ffmpeg\n",
    "!pip install torch torchvision torchaudio --index-url https://download.pytorch.org/whl/cu118\n",
    "!pip install librosa soundfile opencv-python matplotlib moviepy tqdm\n",
    "!pip install git+https://github.com/facebookresearch/pytorch3d.git@stable\n",
    "!pip install git+https://github.com/rodrigo-castellon/jukemirlib.git\n",
    "!pip install wandb p_tqdm einops\n",
    "!apt-get update && apt-get install -y ffmpeg\n",
    "!pip install -U gdown\n",
    "!pip install numpy==1.26.4 --force-reinstall\n",
    "\n",
    "%cd /workspace/edge_api/edge\n",
    "!mkdir -p checkpoints\n",
    "!gdown --id 1BAR712cVEqB8GR37fcEihRV_xOC-fZrZ -O checkpoint.pt\n",
    "%cd /workspace/edge_api"
   ]
  },
  {
   "cell_type": "code",
   "execution_count": 1,
   "id": "4f854ab6-4bef-48bd-bd9a-b2b92ff4073b",
   "metadata": {},
   "outputs": [
    {
     "name": "stderr",
     "output_type": "stream",
     "text": [
      "Cloning into 'edge'...\n"
     ]
    }
   ],
   "source": [
    "!git clone https://github.com/Stanford-TML/EDGE.git edge\n"
   ]
  },
  {
   "cell_type": "code",
   "execution_count": 13,
   "id": "86b6ec13-2dbd-4983-9568-ba33b825631a",
   "metadata": {},
   "outputs": [
    {
     "name": "stdout",
     "output_type": "stream",
     "text": [
      "Collecting yt-dlp\n",
      "  Downloading yt_dlp-2025.7.21-py3-none-any.whl.metadata (175 kB)\n",
      "\u001b[2K     \u001b[90m━━━━━━━━━━━━━━━━━━━━━━━━━━━━━━━━━━━━━━━\u001b[0m \u001b[32m175.4/175.4 kB\u001b[0m \u001b[31m4.3 MB/s\u001b[0m eta \u001b[36m0:00:00\u001b[0m00:01\u001b[0m\n",
      "\u001b[?25hDownloading yt_dlp-2025.7.21-py3-none-any.whl (3.3 MB)\n",
      "\u001b[2K   \u001b[90m━━━━━━━━━━━━━━━━━━━━━━━━━━━━━━━━━━━━━━━━\u001b[0m \u001b[32m3.3/3.3 MB\u001b[0m \u001b[31m16.8 MB/s\u001b[0m eta \u001b[36m0:00:00\u001b[0m00:01\u001b[0m00:01\u001b[0m\n",
      "\u001b[?25hInstalling collected packages: yt-dlp\n",
      "Successfully installed yt-dlp-2025.7.21\n",
      "\u001b[33mWARNING: Running pip as the 'root' user can result in broken permissions and conflicting behaviour with the system package manager. It is recommended to use a virtual environment instead: https://pip.pypa.io/warnings/venv\u001b[0m\u001b[33m\n",
      "\u001b[0m\n",
      "\u001b[1m[\u001b[0m\u001b[34;49mnotice\u001b[0m\u001b[1;39;49m]\u001b[0m\u001b[39;49m A new release of pip is available: \u001b[0m\u001b[31;49m23.3.1\u001b[0m\u001b[39;49m -> \u001b[0m\u001b[32;49m25.1.1\u001b[0m\n",
      "\u001b[1m[\u001b[0m\u001b[34;49mnotice\u001b[0m\u001b[1;39;49m]\u001b[0m\u001b[39;49m To update, run: \u001b[0m\u001b[32;49mpython -m pip install --upgrade pip\u001b[0m\n",
      "[youtube] Extracting URL: https://www.youtube.com/watch?v=nLFNugItImw\n",
      "[youtube] nLFNugItImw: Downloading webpage\n",
      "[youtube] nLFNugItImw: Downloading tv client config\n",
      "[youtube] nLFNugItImw: Downloading player 69b31e11-main\n",
      "[youtube] nLFNugItImw: Downloading tv player API JSON\n",
      "[youtube] nLFNugItImw: Downloading ios player API JSON\n",
      "[youtube] nLFNugItImw: Downloading m3u8 information\n",
      "[info] nLFNugItImw: Downloading 1 format(s): 251\n",
      "[download] Destination: custom_music/nLFNugItImw.webm\n",
      "\u001b[K[download] 100% of    4.01MiB in \u001b[1;37m00:00:00\u001b[0m at \u001b[0;32m18.19MiB/s\u001b[0m;33m00:00\u001b[0m\n",
      "[ExtractAudio] Destination: custom_music/nLFNugItImw.wav\n",
      "Deleting original file custom_music/nLFNugItImw.webm (pass -k to keep)\n"
     ]
    }
   ],
   "source": [
    "output_folder = \"custom_music\"\n",
    "!mkdir -p {output_folder}\n",
    "url = \"https://www.youtube.com/watch?v=nLFNugItImw\"  # ← Replace with your song\n",
    "!pip install yt-dlp  # more stable alternative to youtube-dl\n",
    "!yt-dlp --extract-audio --audio-format wav --audio-quality 0 --output \"{output_folder}/%(id)s.%(ext)s\" {url}\n"
   ]
  },
  {
   "cell_type": "code",
   "execution_count": 16,
   "id": "450b3ab4-f4fd-4f62-abeb-41a9cc38d0a5",
   "metadata": {},
   "outputs": [
    {
     "name": "stdout",
     "output_type": "stream",
     "text": [
      "Computing features for input music\n",
      "Slicing custom_music/nLFNugItImw.wav\n",
      "Computing features for custom_music/nLFNugItImw.wav\n",
      "  0%|                                                   | 0/100 [00:00<?, ?it/s]Importing jukebox and associated packages...\n",
      "Setting up the VQ-VAE...\n",
      "Loading vqvae in eval mode\n",
      "Setting up the top prior...\n",
      "Loading artist IDs from /usr/local/lib/python3.10/dist-packages/jukebox/data/ids/v2_artist_ids.txt\n",
      "Loading artist IDs from /usr/local/lib/python3.10/dist-packages/jukebox/data/ids/v2_genre_ids.txt\n",
      "Level:2, Cond downsample:None, Raw to tokens:128, Sample length:1048576\n",
      "Converting to fp16 params\n",
      "Loading prior in eval mode\n",
      "Loading the top prior weights into memory...\n",
      "\n",
      "  0%|                                                   | 0/872 [00:00<?, ?it/s]\u001b[A\n",
      "  7%|███                                      | 64/872 [00:00<00:01, 621.18it/s]\u001b[A\n",
      " 18%|███████                                 | 154/872 [00:00<00:01, 682.75it/s]\u001b[A\n",
      " 28%|███████████▏                            | 244/872 [00:00<00:00, 732.62it/s]\u001b[A\n",
      " 38%|███████████████▏                        | 332/872 [00:00<00:00, 769.05it/s]\u001b[A\n",
      " 48%|███████████████████▎                    | 422/872 [00:00<00:00, 803.10it/s]\u001b[A\n",
      " 59%|███████████████████████▍                | 512/872 [00:00<00:00, 829.58it/s]\u001b[A\n",
      " 69%|███████████████████████████▋            | 604/872 [00:00<00:00, 849.47it/s]\u001b[A\n",
      " 80%|████████████████████████████████        | 698/872 [00:00<00:00, 866.45it/s]\u001b[A\n",
      "100%|████████████████████████████████████████| 872/872 [00:01<00:00, 863.30it/s]\u001b[A\n",
      "\n",
      "100%|██████████████████████████████████████| 669/669 [00:00<00:00, 23020.67it/s]\u001b[A\n",
      "100%|█████████████████████████████████████████| 100/100 [01:11<00:00,  1.40it/s]\n",
      "Model has 49464471 parameters\n",
      "Generating dances\n",
      "sampling loop time step: 100%|██████████████████| 50/50 [00:01<00:00, 28.15it/s]\n",
      "/workspace/EDGE/vis.py:194: UserWarning: No data for colormapping provided via 'c'. Parameters 'cmap' will be ignored\n",
      "  ax.scatter([], [], [], zorder=10, s=0, cmap=ListedColormap([\"r\", \"g\", \"b\"]))\n",
      "Done\n"
     ]
    }
   ],
   "source": [
    "!python test.py --music_dir custom_music/ --save_motions --motion_save_dir SMPL-to-FBX/\n"
   ]
  },
  {
   "cell_type": "code",
   "execution_count": 18,
   "id": "08b768d4-306f-4407-b5b8-987c30ec1ba5",
   "metadata": {},
   "outputs": [],
   "source": [
    "motion_file = \"SMPL-to-FBX/test_nLFNugItImw.pkl\"\n",
    "!python vis.py \\\n",
    "  --motion_file test_music1engliush.pkl \\\n",
    "  --out_path renders/test_music1.mp4 \\\n",
    "  --fps 20 \\\n",
    "  --save_video\n"
   ]
  },
  {
   "cell_type": "code",
   "execution_count": 51,
   "id": "122a9f6e-6bad-444c-8099-e4f2a6727eec",
   "metadata": {
    "scrolled": true
   },
   "outputs": [
    {
     "name": "stdout",
     "output_type": "stream",
     "text": [
      "Hit:1 http://security.ubuntu.com/ubuntu jammy-security InRelease\n",
      "Hit:2 https://developer.download.nvidia.com/compute/cuda/repos/ubuntu2204/x86_64  InRelease\n",
      "Hit:3 https://ppa.launchpadcontent.net/deadsnakes/ppa/ubuntu jammy InRelease   \n",
      "Hit:4 http://archive.ubuntu.com/ubuntu jammy InRelease                         \n",
      "Hit:5 http://archive.ubuntu.com/ubuntu jammy-updates InRelease\n",
      "Hit:6 http://archive.ubuntu.com/ubuntu jammy-backports InRelease\n",
      "Reading package lists... Done\n",
      "Reading package lists... Done\n",
      "Building dependency tree... Done\n",
      "Reading state information... Done\n",
      "libegl1 is already the newest version (1.4.0-1).\n",
      "libgl1 is already the newest version (1.4.0-1).\n",
      "libgl1-mesa-dev is already the newest version (23.2.1-1ubuntu3.1~22.04.3).\n",
      "libgles2-mesa-dev is already the newest version (23.2.1-1ubuntu3.1~22.04.3).\n",
      "libosmesa6 is already the newest version (23.2.1-1ubuntu3.1~22.04.3).\n",
      "0 upgraded, 0 newly installed, 0 to remove and 140 not upgraded.\n",
      "Collecting numpy==1.23.5\n",
      "  Using cached numpy-1.23.5-cp310-cp310-manylinux_2_17_x86_64.manylinux2014_x86_64.whl.metadata (2.3 kB)\n",
      "Collecting torch==1.12.1\n",
      "  Using cached torch-1.12.1-cp310-cp310-manylinux1_x86_64.whl.metadata (22 kB)\n",
      "Requirement already satisfied: smplx in /usr/local/lib/python3.10/dist-packages (0.1.28)\n",
      "Requirement already satisfied: pyrender in /usr/local/lib/python3.10/dist-packages (0.1.45)\n",
      "Requirement already satisfied: trimesh in /usr/local/lib/python3.10/dist-packages (4.7.1)\n",
      "Requirement already satisfied: opencv-python in /usr/local/lib/python3.10/dist-packages (4.11.0.86)\n",
      "Requirement already satisfied: typing-extensions in /usr/local/lib/python3.10/dist-packages (from torch==1.12.1) (4.14.1)\n",
      "Requirement already satisfied: freetype-py in /usr/local/lib/python3.10/dist-packages (from pyrender) (2.5.1)\n",
      "Requirement already satisfied: imageio in /usr/local/lib/python3.10/dist-packages (from pyrender) (2.37.0)\n",
      "Requirement already satisfied: networkx in /usr/local/lib/python3.10/dist-packages (from pyrender) (3.0)\n",
      "Requirement already satisfied: Pillow in /usr/local/lib/python3.10/dist-packages (from pyrender) (9.3.0)\n",
      "Requirement already satisfied: pyglet>=1.4.10 in /usr/local/lib/python3.10/dist-packages (from pyrender) (2.1.6)\n",
      "Requirement already satisfied: PyOpenGL==3.1.0 in /usr/local/lib/python3.10/dist-packages (from pyrender) (3.1.0)\n",
      "Requirement already satisfied: scipy in /usr/local/lib/python3.10/dist-packages (from pyrender) (1.15.3)\n",
      "Requirement already satisfied: six in /usr/lib/python3/dist-packages (from pyrender) (1.16.0)\n",
      "Using cached numpy-1.23.5-cp310-cp310-manylinux_2_17_x86_64.manylinux2014_x86_64.whl (17.1 MB)\n",
      "Using cached torch-1.12.1-cp310-cp310-manylinux1_x86_64.whl (776.3 MB)\n",
      "Installing collected packages: torch, numpy\n",
      "  Attempting uninstall: torch\n",
      "    Found existing installation: torch 2.1.0+cu118\n",
      "    Uninstalling torch-2.1.0+cu118:\n",
      "      Successfully uninstalled torch-2.1.0+cu118\n",
      "  Attempting uninstall: numpy\n",
      "    Found existing installation: numpy 1.26.4\n",
      "    Uninstalling numpy-1.26.4:\n",
      "      Successfully uninstalled numpy-1.26.4\n",
      "\u001b[31mERROR: pip's dependency resolver does not currently take into account all the packages that are installed. This behaviour is the source of the following dependency conflicts.\n",
      "accelerate 1.9.0 requires torch>=2.0.0, but you have torch 1.12.1 which is incompatible.\n",
      "moviepy 2.2.1 requires numpy>=1.25.0, but you have numpy 1.23.5 which is incompatible.\n",
      "numba 0.61.2 requires numpy<2.3,>=1.24, but you have numpy 1.23.5 which is incompatible.\n",
      "torchaudio 2.1.0+cu118 requires torch==2.1.0, but you have torch 1.12.1 which is incompatible.\n",
      "torchvision 0.16.0+cu118 requires torch==2.1.0, but you have torch 1.12.1 which is incompatible.\u001b[0m\u001b[31m\n",
      "\u001b[0mSuccessfully installed numpy-1.23.5 torch-1.12.1\n",
      "\u001b[33mWARNING: Running pip as the 'root' user can result in broken permissions and conflicting behaviour with the system package manager. It is recommended to use a virtual environment instead: https://pip.pypa.io/warnings/venv\u001b[0m\u001b[33m\n",
      "\u001b[0m\n",
      "\u001b[1m[\u001b[0m\u001b[34;49mnotice\u001b[0m\u001b[1;39;49m]\u001b[0m\u001b[39;49m A new release of pip is available: \u001b[0m\u001b[31;49m23.3.1\u001b[0m\u001b[39;49m -> \u001b[0m\u001b[32;49m25.1.1\u001b[0m\n",
      "\u001b[1m[\u001b[0m\u001b[34;49mnotice\u001b[0m\u001b[1;39;49m]\u001b[0m\u001b[39;49m To update, run: \u001b[0m\u001b[32;49mpython -m pip install --upgrade pip\u001b[0m\n"
     ]
    }
   ],
   "source": [
    "!apt-get update && apt-get install -y libegl1 libgl1 libosmesa6 libgl1-mesa-dev libgles2-mesa-dev\n",
    "!pip install numpy==1.23.5 torch==1.12.1 smplx pyrender trimesh opencv-python\n"
   ]
  },
  {
   "cell_type": "code",
   "execution_count": 52,
   "id": "3f8cec35-35cb-412a-94bc-e00a898c65a5",
   "metadata": {},
   "outputs": [
    {
     "name": "stdout",
     "output_type": "stream",
     "text": [
      "Requirement already satisfied: pyrender in /usr/local/lib/python3.10/dist-packages (0.1.45)\n",
      "Requirement already satisfied: trimesh in /usr/local/lib/python3.10/dist-packages (4.7.1)\n",
      "Requirement already satisfied: smplx in /usr/local/lib/python3.10/dist-packages (0.1.28)\n",
      "Requirement already satisfied: chumpy in /usr/local/lib/python3.10/dist-packages (0.70)\n",
      "Requirement already satisfied: freetype-py in /usr/local/lib/python3.10/dist-packages (from pyrender) (2.5.1)\n",
      "Requirement already satisfied: imageio in /usr/local/lib/python3.10/dist-packages (from pyrender) (2.37.0)\n",
      "Requirement already satisfied: networkx in /usr/local/lib/python3.10/dist-packages (from pyrender) (3.0)\n",
      "Requirement already satisfied: numpy in /usr/local/lib/python3.10/dist-packages (from pyrender) (1.23.5)\n",
      "Requirement already satisfied: Pillow in /usr/local/lib/python3.10/dist-packages (from pyrender) (9.3.0)\n",
      "Requirement already satisfied: pyglet>=1.4.10 in /usr/local/lib/python3.10/dist-packages (from pyrender) (2.1.6)\n",
      "Requirement already satisfied: PyOpenGL==3.1.0 in /usr/local/lib/python3.10/dist-packages (from pyrender) (3.1.0)\n",
      "Requirement already satisfied: scipy in /usr/local/lib/python3.10/dist-packages (from pyrender) (1.15.3)\n",
      "Requirement already satisfied: six in /usr/lib/python3/dist-packages (from pyrender) (1.16.0)\n",
      "Requirement already satisfied: torch>=1.0.1.post2 in /usr/local/lib/python3.10/dist-packages (from smplx) (1.12.1)\n",
      "Requirement already satisfied: typing-extensions in /usr/local/lib/python3.10/dist-packages (from torch>=1.0.1.post2->smplx) (4.14.1)\n",
      "\u001b[33mWARNING: Running pip as the 'root' user can result in broken permissions and conflicting behaviour with the system package manager. It is recommended to use a virtual environment instead: https://pip.pypa.io/warnings/venv\u001b[0m\u001b[33m\n",
      "\u001b[0m\n",
      "\u001b[1m[\u001b[0m\u001b[34;49mnotice\u001b[0m\u001b[1;39;49m]\u001b[0m\u001b[39;49m A new release of pip is available: \u001b[0m\u001b[31;49m23.3.1\u001b[0m\u001b[39;49m -> \u001b[0m\u001b[32;49m25.1.1\u001b[0m\n",
      "\u001b[1m[\u001b[0m\u001b[34;49mnotice\u001b[0m\u001b[1;39;49m]\u001b[0m\u001b[39;49m To update, run: \u001b[0m\u001b[32;49mpython -m pip install --upgrade pip\u001b[0m\n"
     ]
    }
   ],
   "source": [
    "!pip install pyrender trimesh smplx chumpy"
   ]
  },
  {
   "cell_type": "code",
   "execution_count": 56,
   "id": "52d2d1ba-b512-475d-8a2b-a0a2bb563a64",
   "metadata": {},
   "outputs": [
    {
     "name": "stdout",
     "output_type": "stream",
     "text": [
      "/workspace\n"
     ]
    },
    {
     "name": "stderr",
     "output_type": "stream",
     "text": [
      "/usr/local/lib/python3.10/dist-packages/IPython/core/magics/osm.py:417: UserWarning: using dhist requires you to install the `pickleshare` library.\n",
      "  self.shell.db['dhist'] = compress_dhist(dhist)[-100:]\n"
     ]
    }
   ],
   "source": [
    "%cd /workspace"
   ]
  },
  {
   "cell_type": "code",
   "execution_count": 69,
   "id": "9f50ab3d-3f78-47d5-98ad-5e47ac850404",
   "metadata": {},
   "outputs": [
    {
     "name": "stdout",
     "output_type": "stream",
     "text": [
      "WARNING: You are using a SMPL model, with only 10 shape coefficients.\n",
      "Rendering complete: 3d_render.mp4\n"
     ]
    }
   ],
   "source": [
    "import os\n",
    "os.environ[\"PYOPENGL_PLATFORM\"] = \"egl\"\n",
    "\n",
    "import numpy as np\n",
    "import pickle\n",
    "import torch\n",
    "import pyrender\n",
    "import trimesh\n",
    "import cv2\n",
    "import smplx\n",
    "\n",
    "# === Load SMPL Model ===\n",
    "model = smplx.SMPL(model_path=\"SMPL_NEUTRAL.pkl\", gender='neutral', batch_size=1)\n",
    "\n",
    "# === Load .pkl motion file ===\n",
    "with open(\"test_nLFNugItImw.pkl\", \"rb\") as f:\n",
    "    data = pickle.load(f)\n",
    "\n",
    "poses = data[\"smpl_poses\"]  # (T, 72)\n",
    "trans = data.get(\"smpl_trans\", np.zeros((poses.shape[0], 3)))  # fallback\n",
    "T = poses.shape[0]\n",
    "\n",
    "# === Set up renderer ===\n",
    "scene = pyrender.Scene()\n",
    "camera = pyrender.PerspectiveCamera(yfov=np.pi / 3.0)\n",
    "camera_pose = np.array([\n",
    "    [1.0,  0.0,  0.0,  0.0],     # Right\n",
    "    [0.0,  0.0, -1.0, -3.5],     # Down\n",
    "    [0.0,  1.0,  0.0,  2.5],     # Backward\n",
    "    [0.0,  0.0,  0.0,  1.0]\n",
    "])\n",
    "\n",
    "\n",
    "scene.add(camera, pose=camera_pose)\n",
    "\n",
    "light = pyrender.DirectionalLight(color=np.ones(3), intensity=2.5)\n",
    "scene.add(light)\n",
    "renderer = pyrender.OffscreenRenderer(512, 512)\n",
    "video = cv2.VideoWriter(\"3d_render.mp4\", cv2.VideoWriter_fourcc(*'mp4v'), 25, (512, 512))\n",
    "\n",
    "# === Render each frame ===\n",
    "for i in range(T):\n",
    "    pose = torch.tensor(poses[i:i+1], dtype=torch.float32)\n",
    "    transl = torch.tensor(trans[i:i+1], dtype=torch.float32)\n",
    "\n",
    "    output = model(\n",
    "        global_orient=pose[:, :3],\n",
    "        body_pose=pose[:, 3:],\n",
    "        transl=transl,\n",
    "        betas=torch.zeros(1, 10),\n",
    "        return_verts=True\n",
    "    )\n",
    "\n",
    "    verts = output.vertices[0].detach().cpu().numpy()\n",
    "    mesh = trimesh.Trimesh(vertices=verts, faces=model.faces, process=False)\n",
    "    render_mesh = pyrender.Mesh.from_trimesh(mesh)\n",
    "\n",
    "    # Remove previous mesh and add new one\n",
    "    for node in list(scene.get_nodes()):\n",
    "        if isinstance(node.mesh, pyrender.Mesh):\n",
    "            scene.remove_node(node)\n",
    "    scene.add(render_mesh)\n",
    "\n",
    "    color, _ = renderer.render(scene)\n",
    "    video.write(cv2.cvtColor(color, cv2.COLOR_RGB2BGR))\n",
    "\n",
    "video.release()\n",
    "renderer.delete()\n",
    "print(\"Rendering complete: 3d_render.mp4\")\n"
   ]
  },
  {
   "cell_type": "code",
   "execution_count": 68,
   "id": "87a18517-ef76-4be7-b0c5-fdb293b7d707",
   "metadata": {},
   "outputs": [
    {
     "name": "stdout",
     "output_type": "stream",
     "text": [
      "WARNING: You are using a SMPL model, with only 10 shape coefficients.\n",
      "Saved frame: test_camera_view.png\n"
     ]
    }
   ],
   "source": [
    "!uvicorn main:app --host 0.0.0.0 --port 8000"
   ]
  },
  {
   "cell_type": "code",
   "execution_count": null,
   "id": "d6df756d-d163-4b64-bd08-9f24ab27c3b4",
   "metadata": {},
   "outputs": [],
   "source": []
  },
  {
   "cell_type": "code",
   "execution_count": 70,
   "id": "72df06b4-f9c1-46a2-8969-7a225fc6e48a",
   "metadata": {},
   "outputs": [
    {
     "name": "stdout",
     "output_type": "stream",
     "text": [
      "Collecting fastapi\n",
      "  Downloading fastapi-0.116.1-py3-none-any.whl.metadata (28 kB)\n",
      "Collecting uvicorn\n",
      "  Downloading uvicorn-0.35.0-py3-none-any.whl.metadata (6.5 kB)\n",
      "Collecting python-multipart\n",
      "  Downloading python_multipart-0.0.20-py3-none-any.whl.metadata (1.8 kB)\n",
      "Collecting starlette<0.48.0,>=0.40.0 (from fastapi)\n",
      "  Downloading starlette-0.47.2-py3-none-any.whl.metadata (6.2 kB)\n",
      "Requirement already satisfied: pydantic!=1.8,!=1.8.1,!=2.0.0,!=2.0.1,!=2.1.0,<3.0.0,>=1.7.4 in /usr/local/lib/python3.10/dist-packages (from fastapi) (2.11.7)\n",
      "Requirement already satisfied: typing-extensions>=4.8.0 in /usr/local/lib/python3.10/dist-packages (from fastapi) (4.14.1)\n",
      "Requirement already satisfied: click>=7.0 in /usr/local/lib/python3.10/dist-packages (from uvicorn) (8.2.1)\n",
      "Collecting h11>=0.8 (from uvicorn)\n",
      "  Downloading h11-0.16.0-py3-none-any.whl.metadata (8.3 kB)\n",
      "Requirement already satisfied: annotated-types>=0.6.0 in /usr/local/lib/python3.10/dist-packages (from pydantic!=1.8,!=1.8.1,!=2.0.0,!=2.0.1,!=2.1.0,<3.0.0,>=1.7.4->fastapi) (0.7.0)\n",
      "Requirement already satisfied: pydantic-core==2.33.2 in /usr/local/lib/python3.10/dist-packages (from pydantic!=1.8,!=1.8.1,!=2.0.0,!=2.0.1,!=2.1.0,<3.0.0,>=1.7.4->fastapi) (2.33.2)\n",
      "Requirement already satisfied: typing-inspection>=0.4.0 in /usr/local/lib/python3.10/dist-packages (from pydantic!=1.8,!=1.8.1,!=2.0.0,!=2.0.1,!=2.1.0,<3.0.0,>=1.7.4->fastapi) (0.4.1)\n",
      "Requirement already satisfied: anyio<5,>=3.6.2 in /usr/local/lib/python3.10/dist-packages (from starlette<0.48.0,>=0.40.0->fastapi) (4.0.0)\n",
      "Requirement already satisfied: idna>=2.8 in /usr/local/lib/python3.10/dist-packages (from anyio<5,>=3.6.2->starlette<0.48.0,>=0.40.0->fastapi) (3.4)\n",
      "Requirement already satisfied: sniffio>=1.1 in /usr/local/lib/python3.10/dist-packages (from anyio<5,>=3.6.2->starlette<0.48.0,>=0.40.0->fastapi) (1.3.0)\n",
      "Requirement already satisfied: exceptiongroup>=1.0.2 in /usr/local/lib/python3.10/dist-packages (from anyio<5,>=3.6.2->starlette<0.48.0,>=0.40.0->fastapi) (1.1.3)\n",
      "Downloading fastapi-0.116.1-py3-none-any.whl (95 kB)\n",
      "\u001b[2K   \u001b[90m━━━━━━━━━━━━━━━━━━━━━━━━━━━━━━━━━━━━━━━━\u001b[0m \u001b[32m95.6/95.6 kB\u001b[0m \u001b[31m3.9 MB/s\u001b[0m eta \u001b[36m0:00:00\u001b[0m\n",
      "\u001b[?25hDownloading uvicorn-0.35.0-py3-none-any.whl (66 kB)\n",
      "\u001b[2K   \u001b[90m━━━━━━━━━━━━━━━━━━━━━━━━━━━━━━━━━━━━━━━━\u001b[0m \u001b[32m66.4/66.4 kB\u001b[0m \u001b[31m5.1 MB/s\u001b[0m eta \u001b[36m0:00:00\u001b[0m\n",
      "\u001b[?25hDownloading python_multipart-0.0.20-py3-none-any.whl (24 kB)\n",
      "Downloading h11-0.16.0-py3-none-any.whl (37 kB)\n",
      "Downloading starlette-0.47.2-py3-none-any.whl (72 kB)\n",
      "\u001b[2K   \u001b[90m━━━━━━━━━━━━━━━━━━━━━━━━━━━━━━━━━━━━━━━━\u001b[0m \u001b[32m73.0/73.0 kB\u001b[0m \u001b[31m4.8 MB/s\u001b[0m eta \u001b[36m0:00:00\u001b[0m\n",
      "\u001b[?25hInstalling collected packages: python-multipart, h11, uvicorn, starlette, fastapi\n",
      "Successfully installed fastapi-0.116.1 h11-0.16.0 python-multipart-0.0.20 starlette-0.47.2 uvicorn-0.35.0\n",
      "\u001b[33mWARNING: Running pip as the 'root' user can result in broken permissions and conflicting behaviour with the system package manager. It is recommended to use a virtual environment instead: https://pip.pypa.io/warnings/venv\u001b[0m\u001b[33m\n",
      "\u001b[0m\n",
      "\u001b[1m[\u001b[0m\u001b[34;49mnotice\u001b[0m\u001b[1;39;49m]\u001b[0m\u001b[39;49m A new release of pip is available: \u001b[0m\u001b[31;49m23.3.1\u001b[0m\u001b[39;49m -> \u001b[0m\u001b[32;49m25.1.1\u001b[0m\n",
      "\u001b[1m[\u001b[0m\u001b[34;49mnotice\u001b[0m\u001b[1;39;49m]\u001b[0m\u001b[39;49m To update, run: \u001b[0m\u001b[32;49mpython -m pip install --upgrade pip\u001b[0m\n"
     ]
    }
   ],
   "source": [
    "!pip install fastapi uvicorn python-multipart\n"
   ]
  },
  {
   "cell_type": "code",
   "execution_count": null,
   "id": "533431f7-d5ba-45d6-8a1b-2cf879fc3127",
   "metadata": {},
   "outputs": [],
   "source": []
  }
 ],
 "metadata": {
  "kernelspec": {
   "display_name": "Python 3 (ipykernel)",
   "language": "python",
   "name": "python3"
  },
  "language_info": {
   "codemirror_mode": {
    "name": "ipython",
    "version": 3
   },
   "file_extension": ".py",
   "mimetype": "text/x-python",
   "name": "python",
   "nbconvert_exporter": "python",
   "pygments_lexer": "ipython3",
   "version": "3.12.4"
  }
 },
 "nbformat": 4,
 "nbformat_minor": 5
}
