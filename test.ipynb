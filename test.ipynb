{
 "cells": [
  {
   "cell_type": "code",
   "execution_count": 2,
   "id": "e056a1e2-d591-4f22-a7d2-b432f60d6004",
   "metadata": {},
   "outputs": [
    {
     "name": "stdout",
     "output_type": "stream",
     "text": [
      "[youtube] Extracting URL: https://www.youtube.com/watch?v=nLFNugItImw\n",
      "[youtube] nLFNugItImw: Downloading webpage\n",
      "[youtube] nLFNugItImw: Downloading tv client config\n",
      "[youtube] nLFNugItImw: Downloading tv player API JSON\n",
      "[youtube] nLFNugItImw: Downloading ios player API JSON\n",
      "[youtube] nLFNugItImw: Downloading m3u8 information\n",
      "[info] nLFNugItImw: Downloading 1 format(s): 251\n",
      "[download] Destination: /workspace/edge_api/edge/tmp/b8fffe59/music/nLFNugItImw.webm\n",
      "[download] 100% of    4.01MiB in 00:00:00 at 84.51MiB/s  \n",
      "[ExtractAudio] Destination: /workspace/edge_api/edge/tmp/b8fffe59/music/nLFNugItImw.wav\n",
      "Deleting original file /workspace/edge_api/edge/tmp/b8fffe59/music/nLFNugItImw.webm (pass -k to keep)\n",
      "[INFO] Downloaded: /workspace/edge_api/edge/tmp/b8fffe59/music/nLFNugItImw.wav\n"
     ]
    },
    {
     "name": "stderr",
     "output_type": "stream",
     "text": [
      "  0%|          | 0/100 [00:00<?, ?it/s]"
     ]
    },
    {
     "name": "stdout",
     "output_type": "stream",
     "text": [
      "Computing features for input music\n",
      "Slicing /workspace/edge_api/edge/tmp/b8fffe59/music/nLFNugItImw.wav\n",
      "Computing features for /workspace/edge_api/edge/tmp/b8fffe59/music/nLFNugItImw.wav\n",
      "Downloading: 21% [2181038080 / 10288727721] bytes"
     ]
    },
    {
     "name": "stderr",
     "output_type": "stream",
     "text": [
      " 82%|████████▏ | 82/100 [11:32<02:31,  8.44s/it]\n",
      "Traceback (most recent call last):\n",
      "  File \"/workspace/edge_api/edge/test.py\", line 128, in <module>\n",
      "    test(opt)\n",
      "  File \"/workspace/edge_api/edge/test.py\", line 93, in test\n",
      "    reps, _ = feature_func(file)\n",
      "  File \"/workspace/edge_api/edge/data/audio_extraction/jukebox_features.py\", line 22, in extract\n",
      "    reps = jukemirlib.extract(audio, layers=[LAYER], downsample_target_rate=FPS)\n",
      "  File \"/usr/local/lib/python3.10/dist-packages/torch/autograd/grad_mode.py\", line 27, in decorate_context\n",
      "    return func(*args, **kwargs)\n",
      "  File \"/usr/local/lib/python3.10/dist-packages/jukemirlib/lib.py\", line 250, in extract\n",
      "    VQVAE, TOP_PRIOR = setup_models()\n",
      "  File \"/usr/local/lib/python3.10/dist-packages/jukemirlib/setup_models.py\", line 139, in setup_models\n",
      "    get_checkpoint(prior_cache_path, remote_prefix)\n",
      "  File \"/usr/local/lib/python3.10/dist-packages/jukemirlib/setup_models.py\", line 99, in get_checkpoint\n",
      "    wget.download(remote_path, local_path, bar=bar_progress)\n",
      "  File \"/usr/local/lib/python3.10/dist-packages/wget.py\", line 526, in download\n",
      "    (tmpfile, headers) = ulib.urlretrieve(binurl, tmpfile, callback)\n",
      "  File \"/usr/lib/python3.10/urllib/request.py\", line 280, in urlretrieve\n",
      "    raise ContentTooShortError(\n",
      "urllib.error.ContentTooShortError: <urlopen error retrieval incomplete: got only 2181038080 out of 10288727721 bytes>\n"
     ]
    },
    {
     "ename": "CalledProcessError",
     "evalue": "Command '['python', '/workspace/edge_api/edge/test.py', '--music_dir', '/workspace/edge_api/edge/tmp/b8fffe59/music', '--save_motions', '--motion_save_dir', '/workspace/edge_api/edge/tmp/b8fffe59/motion']' returned non-zero exit status 1.",
     "output_type": "error",
     "traceback": [
      "\u001b[0;31m---------------------------------------------------------------------------\u001b[0m",
      "\u001b[0;31mCalledProcessError\u001b[0m                        Traceback (most recent call last)",
      "Cell \u001b[0;32mIn[2], line 5\u001b[0m\n\u001b[1;32m      3\u001b[0m \u001b[38;5;28;01mif\u001b[39;00m \u001b[38;5;18m__name__\u001b[39m \u001b[38;5;241m==\u001b[39m \u001b[38;5;124m\"\u001b[39m\u001b[38;5;124m__main__\u001b[39m\u001b[38;5;124m\"\u001b[39m:\n\u001b[1;32m      4\u001b[0m     url \u001b[38;5;241m=\u001b[39m \u001b[38;5;124m\"\u001b[39m\u001b[38;5;124mhttps://www.youtube.com/watch?v=nLFNugItImw\u001b[39m\u001b[38;5;124m\"\u001b[39m  \u001b[38;5;66;03m# Example music\u001b[39;00m\n\u001b[0;32m----> 5\u001b[0m     pkl_path \u001b[38;5;241m=\u001b[39m \u001b[43mgenerate_dance_from_youtube\u001b[49m\u001b[43m(\u001b[49m\u001b[43murl\u001b[49m\u001b[43m)\u001b[49m\n\u001b[1;32m      6\u001b[0m     \u001b[38;5;28mprint\u001b[39m(\u001b[38;5;124mf\u001b[39m\u001b[38;5;124m\"\u001b[39m\u001b[38;5;124m[SUCCESS] Generated .pkl path: \u001b[39m\u001b[38;5;132;01m{\u001b[39;00mpkl_path\u001b[38;5;132;01m}\u001b[39;00m\u001b[38;5;124m\"\u001b[39m)\n",
      "File \u001b[0;32m/workspace/edge_api/app/generate.py:59\u001b[0m, in \u001b[0;36mgenerate_dance_from_youtube\u001b[0;34m(youtube_url)\u001b[0m\n\u001b[1;32m     56\u001b[0m audio_path \u001b[38;5;241m=\u001b[39m download_audio(youtube_url, music_dir)\n\u001b[1;32m     57\u001b[0m \u001b[38;5;28mprint\u001b[39m(\u001b[38;5;124mf\u001b[39m\u001b[38;5;124m\"\u001b[39m\u001b[38;5;124m[INFO] Downloaded: \u001b[39m\u001b[38;5;132;01m{\u001b[39;00maudio_path\u001b[38;5;132;01m}\u001b[39;00m\u001b[38;5;124m\"\u001b[39m)\n\u001b[0;32m---> 59\u001b[0m pkl_path \u001b[38;5;241m=\u001b[39m \u001b[43mrun_edge_inference\u001b[49m\u001b[43m(\u001b[49m\u001b[43mmusic_dir\u001b[49m\u001b[43m,\u001b[49m\u001b[43m \u001b[49m\u001b[43mmotion_dir\u001b[49m\u001b[43m)\u001b[49m\n\u001b[1;32m     60\u001b[0m \u001b[38;5;28mprint\u001b[39m(\u001b[38;5;124mf\u001b[39m\u001b[38;5;124m\"\u001b[39m\u001b[38;5;124m[INFO] Generated motion: \u001b[39m\u001b[38;5;132;01m{\u001b[39;00mpkl_path\u001b[38;5;132;01m}\u001b[39;00m\u001b[38;5;124m\"\u001b[39m)\n\u001b[1;32m     62\u001b[0m \u001b[38;5;28;01mreturn\u001b[39;00m \u001b[38;5;28mstr\u001b[39m(pkl_path)\n",
      "File \u001b[0;32m/workspace/edge_api/app/generate.py:31\u001b[0m, in \u001b[0;36mrun_edge_inference\u001b[0;34m(music_dir, motion_dir)\u001b[0m\n\u001b[1;32m     28\u001b[0m \u001b[38;5;250m\u001b[39m\u001b[38;5;124;03m\"\"\"Runs EDGE test.py and returns the generated .pkl path\"\"\"\u001b[39;00m\n\u001b[1;32m     29\u001b[0m motion_dir\u001b[38;5;241m.\u001b[39mmkdir(parents\u001b[38;5;241m=\u001b[39m\u001b[38;5;28;01mTrue\u001b[39;00m, exist_ok\u001b[38;5;241m=\u001b[39m\u001b[38;5;28;01mTrue\u001b[39;00m)\n\u001b[0;32m---> 31\u001b[0m \u001b[43msubprocess\u001b[49m\u001b[38;5;241;43m.\u001b[39;49m\u001b[43mrun\u001b[49m\u001b[43m(\u001b[49m\u001b[43m[\u001b[49m\n\u001b[1;32m     32\u001b[0m \u001b[43m    \u001b[49m\u001b[38;5;124;43m\"\u001b[39;49m\u001b[38;5;124;43mpython\u001b[39;49m\u001b[38;5;124;43m\"\u001b[39;49m\u001b[43m,\u001b[49m\u001b[43m \u001b[49m\u001b[38;5;28;43mstr\u001b[39;49m\u001b[43m(\u001b[49m\u001b[43mEDGE_DIR\u001b[49m\u001b[43m \u001b[49m\u001b[38;5;241;43m/\u001b[39;49m\u001b[43m \u001b[49m\u001b[38;5;124;43m\"\u001b[39;49m\u001b[38;5;124;43mtest.py\u001b[39;49m\u001b[38;5;124;43m\"\u001b[39;49m\u001b[43m)\u001b[49m\u001b[43m,\u001b[49m\u001b[43m  \u001b[49m\u001b[38;5;66;43;03m# FIXED HERE\u001b[39;49;00m\n\u001b[1;32m     33\u001b[0m \u001b[43m    \u001b[49m\u001b[38;5;124;43m\"\u001b[39;49m\u001b[38;5;124;43m--music_dir\u001b[39;49m\u001b[38;5;124;43m\"\u001b[39;49m\u001b[43m,\u001b[49m\u001b[43m \u001b[49m\u001b[38;5;28;43mstr\u001b[39;49m\u001b[43m(\u001b[49m\u001b[43mmusic_dir\u001b[49m\u001b[43m)\u001b[49m\u001b[43m,\u001b[49m\n\u001b[1;32m     34\u001b[0m \u001b[43m    \u001b[49m\u001b[38;5;124;43m\"\u001b[39;49m\u001b[38;5;124;43m--save_motions\u001b[39;49m\u001b[38;5;124;43m\"\u001b[39;49m\u001b[43m,\u001b[49m\n\u001b[1;32m     35\u001b[0m \u001b[43m    \u001b[49m\u001b[38;5;124;43m\"\u001b[39;49m\u001b[38;5;124;43m--motion_save_dir\u001b[39;49m\u001b[38;5;124;43m\"\u001b[39;49m\u001b[43m,\u001b[49m\u001b[43m \u001b[49m\u001b[38;5;28;43mstr\u001b[39;49m\u001b[43m(\u001b[49m\u001b[43mmotion_dir\u001b[49m\u001b[43m)\u001b[49m\n\u001b[1;32m     36\u001b[0m \u001b[43m\u001b[49m\u001b[43m]\u001b[49m\u001b[43m,\u001b[49m\u001b[43m \u001b[49m\u001b[43mcheck\u001b[49m\u001b[38;5;241;43m=\u001b[39;49m\u001b[38;5;28;43;01mTrue\u001b[39;49;00m\u001b[43m)\u001b[49m\n\u001b[1;32m     38\u001b[0m pkl_files \u001b[38;5;241m=\u001b[39m \u001b[38;5;28mlist\u001b[39m(motion_dir\u001b[38;5;241m.\u001b[39mglob(\u001b[38;5;124m\"\u001b[39m\u001b[38;5;124m*.pkl\u001b[39m\u001b[38;5;124m\"\u001b[39m))\n\u001b[1;32m     39\u001b[0m \u001b[38;5;28;01mif\u001b[39;00m \u001b[38;5;129;01mnot\u001b[39;00m pkl_files:\n",
      "File \u001b[0;32m/usr/lib/python3.10/subprocess.py:526\u001b[0m, in \u001b[0;36mrun\u001b[0;34m(input, capture_output, timeout, check, *popenargs, **kwargs)\u001b[0m\n\u001b[1;32m    524\u001b[0m     retcode \u001b[38;5;241m=\u001b[39m process\u001b[38;5;241m.\u001b[39mpoll()\n\u001b[1;32m    525\u001b[0m     \u001b[38;5;28;01mif\u001b[39;00m check \u001b[38;5;129;01mand\u001b[39;00m retcode:\n\u001b[0;32m--> 526\u001b[0m         \u001b[38;5;28;01mraise\u001b[39;00m CalledProcessError(retcode, process\u001b[38;5;241m.\u001b[39margs,\n\u001b[1;32m    527\u001b[0m                                  output\u001b[38;5;241m=\u001b[39mstdout, stderr\u001b[38;5;241m=\u001b[39mstderr)\n\u001b[1;32m    528\u001b[0m \u001b[38;5;28;01mreturn\u001b[39;00m CompletedProcess(process\u001b[38;5;241m.\u001b[39margs, retcode, stdout, stderr)\n",
      "\u001b[0;31mCalledProcessError\u001b[0m: Command '['python', '/workspace/edge_api/edge/test.py', '--music_dir', '/workspace/edge_api/edge/tmp/b8fffe59/music', '--save_motions', '--motion_save_dir', '/workspace/edge_api/edge/tmp/b8fffe59/motion']' returned non-zero exit status 1."
     ]
    }
   ],
   "source": [
    "from app.generate import generate_dance_from_youtube\n",
    "\n",
    "if __name__ == \"__main__\":\n",
    "    url = \"https://www.youtube.com/watch?v=nLFNugItImw\"  # Example music\n",
    "    pkl_path = generate_dance_from_youtube(url)\n",
    "    print(f\"[SUCCESS] Generated .pkl path: {pkl_path}\")\n"
   ]
  },
  {
   "cell_type": "code",
   "execution_count": null,
   "id": "08d78bc6-f1dd-42e2-be15-ca156ae639fc",
   "metadata": {},
   "outputs": [],
   "source": []
  }
 ],
 "metadata": {
  "kernelspec": {
   "display_name": "Python 3 (ipykernel)",
   "language": "python",
   "name": "python3"
  },
  "language_info": {
   "codemirror_mode": {
    "name": "ipython",
    "version": 3
   },
   "file_extension": ".py",
   "mimetype": "text/x-python",
   "name": "python",
   "nbconvert_exporter": "python",
   "pygments_lexer": "ipython3",
   "version": "3.10.12"
  }
 },
 "nbformat": 4,
 "nbformat_minor": 5
}
